{
  "nbformat": 4,
  "nbformat_minor": 0,
  "metadata": {
    "colab": {
      "name": "Untitled4.ipynb",
      "provenance": [],
      "authorship_tag": "ABX9TyPkrkXI8PN7Df/nR72c5Yot",
      "include_colab_link": true
    },
    "kernelspec": {
      "name": "python3",
      "display_name": "Python 3"
    },
    "language_info": {
      "name": "python"
    }
  },
  "cells": [
    {
      "cell_type": "markdown",
      "metadata": {
        "id": "view-in-github",
        "colab_type": "text"
      },
      "source": [
        "<a href=\"https://colab.research.google.com/github/shayonid/code-20220612-shayonidutta/blob/main/LSTM_1sample.ipynb\" target=\"_parent\"><img src=\"https://colab.research.google.com/assets/colab-badge.svg\" alt=\"Open In Colab\"/></a>"
      ]
    },
    {
      "cell_type": "code",
      "execution_count": 2,
      "metadata": {
        "id": "mdnndHhVUo46"
      },
      "outputs": [],
      "source": [
        "# Using 3D array with LSTM\n",
        "\n",
        "import numpy\n",
        "import matplotlib.pyplot as plt\n",
        "import pandas\n",
        "import math\n",
        "from keras.models import Sequential\n",
        "from keras.layers import Dense\n",
        "from keras.layers import LSTM\n",
        "from sklearn.preprocessing import MinMaxScaler\n",
        "from sklearn.metrics import mean_squared_error"
      ]
    },
    {
      "cell_type": "code",
      "source": [
        "# fix random seed for reproducibility\n",
        "numpy.random.seed(7)"
      ],
      "metadata": {
        "id": "wbISP-nXXRdD"
      },
      "execution_count": 3,
      "outputs": []
    },
    {
      "cell_type": "code",
      "source": [
        "from google.colab import files\n",
        "uploaded = files.upload()"
      ],
      "metadata": {
        "colab": {
          "resources": {
            "http://localhost:8080/nbextensions/google.colab/files.js": {
              "data": "Ly8gQ29weXJpZ2h0IDIwMTcgR29vZ2xlIExMQwovLwovLyBMaWNlbnNlZCB1bmRlciB0aGUgQXBhY2hlIExpY2Vuc2UsIFZlcnNpb24gMi4wICh0aGUgIkxpY2Vuc2UiKTsKLy8geW91IG1heSBub3QgdXNlIHRoaXMgZmlsZSBleGNlcHQgaW4gY29tcGxpYW5jZSB3aXRoIHRoZSBMaWNlbnNlLgovLyBZb3UgbWF5IG9idGFpbiBhIGNvcHkgb2YgdGhlIExpY2Vuc2UgYXQKLy8KLy8gICAgICBodHRwOi8vd3d3LmFwYWNoZS5vcmcvbGljZW5zZXMvTElDRU5TRS0yLjAKLy8KLy8gVW5sZXNzIHJlcXVpcmVkIGJ5IGFwcGxpY2FibGUgbGF3IG9yIGFncmVlZCB0byBpbiB3cml0aW5nLCBzb2Z0d2FyZQovLyBkaXN0cmlidXRlZCB1bmRlciB0aGUgTGljZW5zZSBpcyBkaXN0cmlidXRlZCBvbiBhbiAiQVMgSVMiIEJBU0lTLAovLyBXSVRIT1VUIFdBUlJBTlRJRVMgT1IgQ09ORElUSU9OUyBPRiBBTlkgS0lORCwgZWl0aGVyIGV4cHJlc3Mgb3IgaW1wbGllZC4KLy8gU2VlIHRoZSBMaWNlbnNlIGZvciB0aGUgc3BlY2lmaWMgbGFuZ3VhZ2UgZ292ZXJuaW5nIHBlcm1pc3Npb25zIGFuZAovLyBsaW1pdGF0aW9ucyB1bmRlciB0aGUgTGljZW5zZS4KCi8qKgogKiBAZmlsZW92ZXJ2aWV3IEhlbHBlcnMgZm9yIGdvb2dsZS5jb2xhYiBQeXRob24gbW9kdWxlLgogKi8KKGZ1bmN0aW9uKHNjb3BlKSB7CmZ1bmN0aW9uIHNwYW4odGV4dCwgc3R5bGVBdHRyaWJ1dGVzID0ge30pIHsKICBjb25zdCBlbGVtZW50ID0gZG9jdW1lbnQuY3JlYXRlRWxlbWVudCgnc3BhbicpOwogIGVsZW1lbnQudGV4dENvbnRlbnQgPSB0ZXh0OwogIGZvciAoY29uc3Qga2V5IG9mIE9iamVjdC5rZXlzKHN0eWxlQXR0cmlidXRlcykpIHsKICAgIGVsZW1lbnQuc3R5bGVba2V5XSA9IHN0eWxlQXR0cmlidXRlc1trZXldOwogIH0KICByZXR1cm4gZWxlbWVudDsKfQoKLy8gTWF4IG51bWJlciBvZiBieXRlcyB3aGljaCB3aWxsIGJlIHVwbG9hZGVkIGF0IGEgdGltZS4KY29uc3QgTUFYX1BBWUxPQURfU0laRSA9IDEwMCAqIDEwMjQ7CgpmdW5jdGlvbiBfdXBsb2FkRmlsZXMoaW5wdXRJZCwgb3V0cHV0SWQpIHsKICBjb25zdCBzdGVwcyA9IHVwbG9hZEZpbGVzU3RlcChpbnB1dElkLCBvdXRwdXRJZCk7CiAgY29uc3Qgb3V0cHV0RWxlbWVudCA9IGRvY3VtZW50LmdldEVsZW1lbnRCeUlkKG91dHB1dElkKTsKICAvLyBDYWNoZSBzdGVwcyBvbiB0aGUgb3V0cHV0RWxlbWVudCB0byBtYWtlIGl0IGF2YWlsYWJsZSBmb3IgdGhlIG5leHQgY2FsbAogIC8vIHRvIHVwbG9hZEZpbGVzQ29udGludWUgZnJvbSBQeXRob24uCiAgb3V0cHV0RWxlbWVudC5zdGVwcyA9IHN0ZXBzOwoKICByZXR1cm4gX3VwbG9hZEZpbGVzQ29udGludWUob3V0cHV0SWQpOwp9CgovLyBUaGlzIGlzIHJvdWdobHkgYW4gYXN5bmMgZ2VuZXJhdG9yIChub3Qgc3VwcG9ydGVkIGluIHRoZSBicm93c2VyIHlldCksCi8vIHdoZXJlIHRoZXJlIGFyZSBtdWx0aXBsZSBhc3luY2hyb25vdXMgc3RlcHMgYW5kIHRoZSBQeXRob24gc2lkZSBpcyBnb2luZwovLyB0byBwb2xsIGZvciBjb21wbGV0aW9uIG9mIGVhY2ggc3RlcC4KLy8gVGhpcyB1c2VzIGEgUHJvbWlzZSB0byBibG9jayB0aGUgcHl0aG9uIHNpZGUgb24gY29tcGxldGlvbiBvZiBlYWNoIHN0ZXAsCi8vIHRoZW4gcGFzc2VzIHRoZSByZXN1bHQgb2YgdGhlIHByZXZpb3VzIHN0ZXAgYXMgdGhlIGlucHV0IHRvIHRoZSBuZXh0IHN0ZXAuCmZ1bmN0aW9uIF91cGxvYWRGaWxlc0NvbnRpbnVlKG91dHB1dElkKSB7CiAgY29uc3Qgb3V0cHV0RWxlbWVudCA9IGRvY3VtZW50LmdldEVsZW1lbnRCeUlkKG91dHB1dElkKTsKICBjb25zdCBzdGVwcyA9IG91dHB1dEVsZW1lbnQuc3RlcHM7CgogIGNvbnN0IG5leHQgPSBzdGVwcy5uZXh0KG91dHB1dEVsZW1lbnQubGFzdFByb21pc2VWYWx1ZSk7CiAgcmV0dXJuIFByb21pc2UucmVzb2x2ZShuZXh0LnZhbHVlLnByb21pc2UpLnRoZW4oKHZhbHVlKSA9PiB7CiAgICAvLyBDYWNoZSB0aGUgbGFzdCBwcm9taXNlIHZhbHVlIHRvIG1ha2UgaXQgYXZhaWxhYmxlIHRvIHRoZSBuZXh0CiAgICAvLyBzdGVwIG9mIHRoZSBnZW5lcmF0b3IuCiAgICBvdXRwdXRFbGVtZW50Lmxhc3RQcm9taXNlVmFsdWUgPSB2YWx1ZTsKICAgIHJldHVybiBuZXh0LnZhbHVlLnJlc3BvbnNlOwogIH0pOwp9CgovKioKICogR2VuZXJhdG9yIGZ1bmN0aW9uIHdoaWNoIGlzIGNhbGxlZCBiZXR3ZWVuIGVhY2ggYXN5bmMgc3RlcCBvZiB0aGUgdXBsb2FkCiAqIHByb2Nlc3MuCiAqIEBwYXJhbSB7c3RyaW5nfSBpbnB1dElkIEVsZW1lbnQgSUQgb2YgdGhlIGlucHV0IGZpbGUgcGlja2VyIGVsZW1lbnQuCiAqIEBwYXJhbSB7c3RyaW5nfSBvdXRwdXRJZCBFbGVtZW50IElEIG9mIHRoZSBvdXRwdXQgZGlzcGxheS4KICogQHJldHVybiB7IUl0ZXJhYmxlPCFPYmplY3Q+fSBJdGVyYWJsZSBvZiBuZXh0IHN0ZXBzLgogKi8KZnVuY3Rpb24qIHVwbG9hZEZpbGVzU3RlcChpbnB1dElkLCBvdXRwdXRJZCkgewogIGNvbnN0IGlucHV0RWxlbWVudCA9IGRvY3VtZW50LmdldEVsZW1lbnRCeUlkKGlucHV0SWQpOwogIGlucHV0RWxlbWVudC5kaXNhYmxlZCA9IGZhbHNlOwoKICBjb25zdCBvdXRwdXRFbGVtZW50ID0gZG9jdW1lbnQuZ2V0RWxlbWVudEJ5SWQob3V0cHV0SWQpOwogIG91dHB1dEVsZW1lbnQuaW5uZXJIVE1MID0gJyc7CgogIGNvbnN0IHBpY2tlZFByb21pc2UgPSBuZXcgUHJvbWlzZSgocmVzb2x2ZSkgPT4gewogICAgaW5wdXRFbGVtZW50LmFkZEV2ZW50TGlzdGVuZXIoJ2NoYW5nZScsIChlKSA9PiB7CiAgICAgIHJlc29sdmUoZS50YXJnZXQuZmlsZXMpOwogICAgfSk7CiAgfSk7CgogIGNvbnN0IGNhbmNlbCA9IGRvY3VtZW50LmNyZWF0ZUVsZW1lbnQoJ2J1dHRvbicpOwogIGlucHV0RWxlbWVudC5wYXJlbnRFbGVtZW50LmFwcGVuZENoaWxkKGNhbmNlbCk7CiAgY2FuY2VsLnRleHRDb250ZW50ID0gJ0NhbmNlbCB1cGxvYWQnOwogIGNvbnN0IGNhbmNlbFByb21pc2UgPSBuZXcgUHJvbWlzZSgocmVzb2x2ZSkgPT4gewogICAgY2FuY2VsLm9uY2xpY2sgPSAoKSA9PiB7CiAgICAgIHJlc29sdmUobnVsbCk7CiAgICB9OwogIH0pOwoKICAvLyBXYWl0IGZvciB0aGUgdXNlciB0byBwaWNrIHRoZSBmaWxlcy4KICBjb25zdCBmaWxlcyA9IHlpZWxkIHsKICAgIHByb21pc2U6IFByb21pc2UucmFjZShbcGlja2VkUHJvbWlzZSwgY2FuY2VsUHJvbWlzZV0pLAogICAgcmVzcG9uc2U6IHsKICAgICAgYWN0aW9uOiAnc3RhcnRpbmcnLAogICAgfQogIH07CgogIGNhbmNlbC5yZW1vdmUoKTsKCiAgLy8gRGlzYWJsZSB0aGUgaW5wdXQgZWxlbWVudCBzaW5jZSBmdXJ0aGVyIHBpY2tzIGFyZSBub3QgYWxsb3dlZC4KICBpbnB1dEVsZW1lbnQuZGlzYWJsZWQgPSB0cnVlOwoKICBpZiAoIWZpbGVzKSB7CiAgICByZXR1cm4gewogICAgICByZXNwb25zZTogewogICAgICAgIGFjdGlvbjogJ2NvbXBsZXRlJywKICAgICAgfQogICAgfTsKICB9CgogIGZvciAoY29uc3QgZmlsZSBvZiBmaWxlcykgewogICAgY29uc3QgbGkgPSBkb2N1bWVudC5jcmVhdGVFbGVtZW50KCdsaScpOwogICAgbGkuYXBwZW5kKHNwYW4oZmlsZS5uYW1lLCB7Zm9udFdlaWdodDogJ2JvbGQnfSkpOwogICAgbGkuYXBwZW5kKHNwYW4oCiAgICAgICAgYCgke2ZpbGUudHlwZSB8fCAnbi9hJ30pIC0gJHtmaWxlLnNpemV9IGJ5dGVzLCBgICsKICAgICAgICBgbGFzdCBtb2RpZmllZDogJHsKICAgICAgICAgICAgZmlsZS5sYXN0TW9kaWZpZWREYXRlID8gZmlsZS5sYXN0TW9kaWZpZWREYXRlLnRvTG9jYWxlRGF0ZVN0cmluZygpIDoKICAgICAgICAgICAgICAgICAgICAgICAgICAgICAgICAgICAgJ24vYSd9IC0gYCkpOwogICAgY29uc3QgcGVyY2VudCA9IHNwYW4oJzAlIGRvbmUnKTsKICAgIGxpLmFwcGVuZENoaWxkKHBlcmNlbnQpOwoKICAgIG91dHB1dEVsZW1lbnQuYXBwZW5kQ2hpbGQobGkpOwoKICAgIGNvbnN0IGZpbGVEYXRhUHJvbWlzZSA9IG5ldyBQcm9taXNlKChyZXNvbHZlKSA9PiB7CiAgICAgIGNvbnN0IHJlYWRlciA9IG5ldyBGaWxlUmVhZGVyKCk7CiAgICAgIHJlYWRlci5vbmxvYWQgPSAoZSkgPT4gewogICAgICAgIHJlc29sdmUoZS50YXJnZXQucmVzdWx0KTsKICAgICAgfTsKICAgICAgcmVhZGVyLnJlYWRBc0FycmF5QnVmZmVyKGZpbGUpOwogICAgfSk7CiAgICAvLyBXYWl0IGZvciB0aGUgZGF0YSB0byBiZSByZWFkeS4KICAgIGxldCBmaWxlRGF0YSA9IHlpZWxkIHsKICAgICAgcHJvbWlzZTogZmlsZURhdGFQcm9taXNlLAogICAgICByZXNwb25zZTogewogICAgICAgIGFjdGlvbjogJ2NvbnRpbnVlJywKICAgICAgfQogICAgfTsKCiAgICAvLyBVc2UgYSBjaHVua2VkIHNlbmRpbmcgdG8gYXZvaWQgbWVzc2FnZSBzaXplIGxpbWl0cy4gU2VlIGIvNjIxMTU2NjAuCiAgICBsZXQgcG9zaXRpb24gPSAwOwogICAgZG8gewogICAgICBjb25zdCBsZW5ndGggPSBNYXRoLm1pbihmaWxlRGF0YS5ieXRlTGVuZ3RoIC0gcG9zaXRpb24sIE1BWF9QQVlMT0FEX1NJWkUpOwogICAgICBjb25zdCBjaHVuayA9IG5ldyBVaW50OEFycmF5KGZpbGVEYXRhLCBwb3NpdGlvbiwgbGVuZ3RoKTsKICAgICAgcG9zaXRpb24gKz0gbGVuZ3RoOwoKICAgICAgY29uc3QgYmFzZTY0ID0gYnRvYShTdHJpbmcuZnJvbUNoYXJDb2RlLmFwcGx5KG51bGwsIGNodW5rKSk7CiAgICAgIHlpZWxkIHsKICAgICAgICByZXNwb25zZTogewogICAgICAgICAgYWN0aW9uOiAnYXBwZW5kJywKICAgICAgICAgIGZpbGU6IGZpbGUubmFtZSwKICAgICAgICAgIGRhdGE6IGJhc2U2NCwKICAgICAgICB9LAogICAgICB9OwoKICAgICAgbGV0IHBlcmNlbnREb25lID0gZmlsZURhdGEuYnl0ZUxlbmd0aCA9PT0gMCA/CiAgICAgICAgICAxMDAgOgogICAgICAgICAgTWF0aC5yb3VuZCgocG9zaXRpb24gLyBmaWxlRGF0YS5ieXRlTGVuZ3RoKSAqIDEwMCk7CiAgICAgIHBlcmNlbnQudGV4dENvbnRlbnQgPSBgJHtwZXJjZW50RG9uZX0lIGRvbmVgOwoKICAgIH0gd2hpbGUgKHBvc2l0aW9uIDwgZmlsZURhdGEuYnl0ZUxlbmd0aCk7CiAgfQoKICAvLyBBbGwgZG9uZS4KICB5aWVsZCB7CiAgICByZXNwb25zZTogewogICAgICBhY3Rpb246ICdjb21wbGV0ZScsCiAgICB9CiAgfTsKfQoKc2NvcGUuZ29vZ2xlID0gc2NvcGUuZ29vZ2xlIHx8IHt9OwpzY29wZS5nb29nbGUuY29sYWIgPSBzY29wZS5nb29nbGUuY29sYWIgfHwge307CnNjb3BlLmdvb2dsZS5jb2xhYi5fZmlsZXMgPSB7CiAgX3VwbG9hZEZpbGVzLAogIF91cGxvYWRGaWxlc0NvbnRpbnVlLAp9Owp9KShzZWxmKTsK",
              "ok": true,
              "headers": [
                [
                  "content-type",
                  "application/javascript"
                ]
              ],
              "status": 200,
              "status_text": ""
            }
          },
          "base_uri": "https://localhost:8080/",
          "height": 73
        },
        "id": "RDZVTla0f0-B",
        "outputId": "044d8050-465b-43b7-cfce-90c00c966628"
      },
      "execution_count": 7,
      "outputs": [
        {
          "output_type": "display_data",
          "data": {
            "text/plain": [
              "<IPython.core.display.HTML object>"
            ],
            "text/html": [
              "\n",
              "     <input type=\"file\" id=\"files-ab3de538-6374-4bed-b676-be2dc193ed37\" name=\"files[]\" multiple disabled\n",
              "        style=\"border:none\" />\n",
              "     <output id=\"result-ab3de538-6374-4bed-b676-be2dc193ed37\">\n",
              "      Upload widget is only available when the cell has been executed in the\n",
              "      current browser session. Please rerun this cell to enable.\n",
              "      </output>\n",
              "      <script src=\"/nbextensions/google.colab/files.js\"></script> "
            ]
          },
          "metadata": {}
        },
        {
          "output_type": "stream",
          "name": "stdout",
          "text": [
            "Saving test.csv to test.csv\n"
          ]
        }
      ]
    },
    {
      "cell_type": "code",
      "source": [
        "import pandas\n",
        "import matplotlib.pyplot as plt\n",
        "dataset = pandas.read_csv('test.csv', usecols=[1], engine='python')\n",
        "plt.plot(dataset)\n",
        "plt.show()"
      ],
      "metadata": {
        "colab": {
          "base_uri": "https://localhost:8080/",
          "height": 267
        },
        "id": "xjVqi-u4eC6h",
        "outputId": "d6139175-52bb-4bf7-99f4-f94e763d5c57"
      },
      "execution_count": 8,
      "outputs": [
        {
          "output_type": "display_data",
          "data": {
            "text/plain": [
              "<Figure size 432x288 with 1 Axes>"
            ],
            "image/png": "[encoded data removed]"
          },
          "metadata": {
            "needs_background": "light"
          }
        }
      ]
    },
    {
      "cell_type": "code",
      "source": [
        "# load the dataset\n",
        "dataframe = pandas.read_csv('test.csv', usecols=[1], engine='python')\n",
        "dataset = dataframe.values\n",
        "dataset = dataset.astype('float32')"
      ],
      "metadata": {
        "id": "OGc5xzVxgwBV"
      },
      "execution_count": 9,
      "outputs": []
    },
    {
      "cell_type": "code",
      "source": [
        "# normalize the dataset\n",
        "scaler = MinMaxScaler(feature_range=(0, 1))\n",
        "dataset = scaler.fit_transform(dataset)"
      ],
      "metadata": {
        "id": "KlnFxJRLg2Wo"
      },
      "execution_count": 10,
      "outputs": []
    },
    {
      "cell_type": "code",
      "source": [
        "# split into train and test sets\n",
        "train_size = int(len(dataset) * 0.67)\n",
        "test_size = len(dataset) - train_size\n",
        "train, test = dataset[0:train_size,:], dataset[train_size:len(dataset),:]\n",
        "print(len(train), len(test))"
      ],
      "metadata": {
        "colab": {
          "base_uri": "https://localhost:8080/"
        },
        "id": "5zWo7oWkg7-V",
        "outputId": "39e3033f-c986-4dcb-90aa-40427b63592c"
      },
      "execution_count": 11,
      "outputs": [
        {
          "output_type": "stream",
          "name": "stdout",
          "text": [
            "133 66\n"
          ]
        }
      ]
    },
    {
      "cell_type": "code",
      "source": [
        "# convert an array of values into a dataset matrix\n",
        "def create_dataset(dataset, look_back=1):\n",
        "\tdataX, dataY = [], []\n",
        "\tfor i in range(len(dataset)-look_back-1):\n",
        "\t\ta = dataset[i:(i+look_back), 0]\n",
        "\t\tdataX.append(a)\n",
        "\t\tdataY.append(dataset[i + look_back, 0])\n",
        "\treturn numpy.array(dataX), numpy.array(dataY)"
      ],
      "metadata": {
        "id": "_q_2oQOYhCZ_"
      },
      "execution_count": 12,
      "outputs": []
    },
    {
      "cell_type": "code",
      "source": [
        "# reshape into X=t and Y=t+1\n",
        "look_back = 1\n",
        "trainX, trainY = create_dataset(train, look_back)\n",
        "testX, testY = create_dataset(test, look_back)"
      ],
      "metadata": {
        "id": "zZfZaoMUhKFt"
      },
      "execution_count": 13,
      "outputs": []
    },
    {
      "cell_type": "code",
      "source": [
        "# reshape input to be [samples, time steps, features]\n",
        "trainX = numpy.reshape(trainX, (trainX.shape[0], 1, trainX.shape[1]))\n",
        "testX = numpy.reshape(testX, (testX.shape[0], 1, testX.shape[1]))"
      ],
      "metadata": {
        "id": "eODvWZ2vhQIH"
      },
      "execution_count": 14,
      "outputs": []
    },
    {
      "cell_type": "code",
      "source": [
        "# create and fit the LSTM network\n",
        "model = Sequential()\n",
        "model.add(LSTM(4, input_shape=(1, look_back)))\n",
        "model.add(Dense(1))\n",
        "model.compile(loss='mean_squared_error', optimizer='adam')\n",
        "model.fit(trainX, trainY, epochs=100, batch_size=1, verbose=2)"
      ],
      "metadata": {
        "colab": {
          "base_uri": "https://localhost:8080/"
        },
        "id": "VYJoaI48hT_H",
        "outputId": "182b4ee5-87ec-401e-da58-c77bc157af07"
      },
      "execution_count": 15,
      "outputs": [
        {
          "output_type": "stream",
          "name": "stdout",
          "text": [
            "Epoch 1/100\n",
            "131/131 - 2s - loss: 0.0509 - 2s/epoch - 17ms/step\n",
            "Epoch 2/100\n",
            "131/131 - 0s - loss: 0.0242 - 209ms/epoch - 2ms/step\n",
            "Epoch 3/100\n",
            "131/131 - 0s - loss: 0.0196 - 196ms/epoch - 1ms/step\n",
            "Epoch 4/100\n",
            "131/131 - 0s - loss: 0.0176 - 210ms/epoch - 2ms/step\n",
            "Epoch 5/100\n",
            "131/131 - 0s - loss: 0.0152 - 220ms/epoch - 2ms/step\n",
            "Epoch 6/100\n",
            "131/131 - 0s - loss: 0.0130 - 214ms/epoch - 2ms/step\n",
            "Epoch 7/100\n",
            "131/131 - 0s - loss: 0.0107 - 214ms/epoch - 2ms/step\n",
            "Epoch 8/100\n",
            "131/131 - 0s - loss: 0.0084 - 228ms/epoch - 2ms/step\n",
            "Epoch 9/100\n",
            "131/131 - 0s - loss: 0.0064 - 211ms/epoch - 2ms/step\n",
            "Epoch 10/100\n",
            "131/131 - 0s - loss: 0.0046 - 218ms/epoch - 2ms/step\n",
            "Epoch 11/100\n",
            "131/131 - 0s - loss: 0.0031 - 186ms/epoch - 1ms/step\n",
            "Epoch 12/100\n",
            "131/131 - 0s - loss: 0.0020 - 203ms/epoch - 2ms/step\n",
            "Epoch 13/100\n",
            "131/131 - 0s - loss: 0.0013 - 207ms/epoch - 2ms/step\n",
            "Epoch 14/100\n",
            "131/131 - 0s - loss: 9.1509e-04 - 185ms/epoch - 1ms/step\n",
            "Epoch 15/100\n",
            "131/131 - 0s - loss: 6.7929e-04 - 199ms/epoch - 2ms/step\n",
            "Epoch 16/100\n",
            "131/131 - 0s - loss: 5.8299e-04 - 208ms/epoch - 2ms/step\n",
            "Epoch 17/100\n",
            "131/131 - 0s - loss: 5.2574e-04 - 195ms/epoch - 1ms/step\n",
            "Epoch 18/100\n",
            "131/131 - 0s - loss: 5.0662e-04 - 199ms/epoch - 2ms/step\n",
            "Epoch 19/100\n",
            "131/131 - 0s - loss: 5.0502e-04 - 207ms/epoch - 2ms/step\n",
            "Epoch 20/100\n",
            "131/131 - 0s - loss: 4.9925e-04 - 197ms/epoch - 2ms/step\n",
            "Epoch 21/100\n",
            "131/131 - 0s - loss: 5.1269e-04 - 196ms/epoch - 1ms/step\n",
            "Epoch 22/100\n",
            "131/131 - 0s - loss: 5.0237e-04 - 198ms/epoch - 2ms/step\n",
            "Epoch 23/100\n",
            "131/131 - 0s - loss: 5.0233e-04 - 213ms/epoch - 2ms/step\n",
            "Epoch 24/100\n",
            "131/131 - 0s - loss: 4.9711e-04 - 185ms/epoch - 1ms/step\n",
            "Epoch 25/100\n",
            "131/131 - 0s - loss: 5.0166e-04 - 200ms/epoch - 2ms/step\n",
            "Epoch 26/100\n",
            "131/131 - 0s - loss: 4.9039e-04 - 192ms/epoch - 1ms/step\n",
            "Epoch 27/100\n",
            "131/131 - 0s - loss: 5.5631e-04 - 184ms/epoch - 1ms/step\n",
            "Epoch 28/100\n",
            "131/131 - 0s - loss: 4.9924e-04 - 211ms/epoch - 2ms/step\n",
            "Epoch 29/100\n",
            "131/131 - 0s - loss: 4.8035e-04 - 192ms/epoch - 1ms/step\n",
            "Epoch 30/100\n",
            "131/131 - 0s - loss: 5.1077e-04 - 201ms/epoch - 2ms/step\n",
            "Epoch 31/100\n",
            "131/131 - 0s - loss: 5.0298e-04 - 204ms/epoch - 2ms/step\n",
            "Epoch 32/100\n",
            "131/131 - 0s - loss: 4.6385e-04 - 189ms/epoch - 1ms/step\n",
            "Epoch 33/100\n",
            "131/131 - 0s - loss: 5.3156e-04 - 187ms/epoch - 1ms/step\n",
            "Epoch 34/100\n",
            "131/131 - 0s - loss: 5.1464e-04 - 220ms/epoch - 2ms/step\n",
            "Epoch 35/100\n",
            "131/131 - 0s - loss: 5.0077e-04 - 199ms/epoch - 2ms/step\n",
            "Epoch 36/100\n",
            "131/131 - 0s - loss: 4.8273e-04 - 215ms/epoch - 2ms/step\n",
            "Epoch 37/100\n",
            "131/131 - 0s - loss: 4.9834e-04 - 211ms/epoch - 2ms/step\n",
            "Epoch 38/100\n",
            "131/131 - 0s - loss: 5.0828e-04 - 219ms/epoch - 2ms/step\n",
            "Epoch 39/100\n",
            "131/131 - 0s - loss: 5.0094e-04 - 199ms/epoch - 2ms/step\n",
            "Epoch 40/100\n",
            "131/131 - 0s - loss: 5.1325e-04 - 219ms/epoch - 2ms/step\n",
            "Epoch 41/100\n",
            "131/131 - 0s - loss: 4.7675e-04 - 219ms/epoch - 2ms/step\n",
            "Epoch 42/100\n",
            "131/131 - 0s - loss: 5.1855e-04 - 224ms/epoch - 2ms/step\n",
            "Epoch 43/100\n",
            "131/131 - 0s - loss: 4.8542e-04 - 219ms/epoch - 2ms/step\n",
            "Epoch 44/100\n",
            "131/131 - 0s - loss: 4.7890e-04 - 193ms/epoch - 1ms/step\n",
            "Epoch 45/100\n",
            "131/131 - 0s - loss: 5.0487e-04 - 204ms/epoch - 2ms/step\n",
            "Epoch 46/100\n",
            "131/131 - 0s - loss: 4.9069e-04 - 181ms/epoch - 1ms/step\n",
            "Epoch 47/100\n",
            "131/131 - 0s - loss: 4.5792e-04 - 189ms/epoch - 1ms/step\n",
            "Epoch 48/100\n",
            "131/131 - 0s - loss: 4.9903e-04 - 204ms/epoch - 2ms/step\n",
            "Epoch 49/100\n",
            "131/131 - 0s - loss: 5.2205e-04 - 196ms/epoch - 1ms/step\n",
            "Epoch 50/100\n",
            "131/131 - 0s - loss: 4.8442e-04 - 214ms/epoch - 2ms/step\n",
            "Epoch 51/100\n",
            "131/131 - 0s - loss: 4.9253e-04 - 186ms/epoch - 1ms/step\n",
            "Epoch 52/100\n",
            "131/131 - 0s - loss: 4.9635e-04 - 184ms/epoch - 1ms/step\n",
            "Epoch 53/100\n",
            "131/131 - 0s - loss: 4.9286e-04 - 194ms/epoch - 1ms/step\n",
            "Epoch 54/100\n",
            "131/131 - 0s - loss: 4.8333e-04 - 198ms/epoch - 2ms/step\n",
            "Epoch 55/100\n",
            "131/131 - 0s - loss: 4.8694e-04 - 187ms/epoch - 1ms/step\n",
            "Epoch 56/100\n",
            "131/131 - 0s - loss: 4.8762e-04 - 230ms/epoch - 2ms/step\n",
            "Epoch 57/100\n",
            "131/131 - 0s - loss: 4.9538e-04 - 181ms/epoch - 1ms/step\n",
            "Epoch 58/100\n",
            "131/131 - 0s - loss: 4.8063e-04 - 200ms/epoch - 2ms/step\n",
            "Epoch 59/100\n",
            "131/131 - 0s - loss: 4.7748e-04 - 195ms/epoch - 1ms/step\n",
            "Epoch 60/100\n",
            "131/131 - 0s - loss: 4.6780e-04 - 192ms/epoch - 1ms/step\n",
            "Epoch 61/100\n",
            "131/131 - 0s - loss: 4.6220e-04 - 188ms/epoch - 1ms/step\n",
            "Epoch 62/100\n",
            "131/131 - 0s - loss: 4.7804e-04 - 196ms/epoch - 1ms/step\n",
            "Epoch 63/100\n",
            "131/131 - 0s - loss: 4.7690e-04 - 218ms/epoch - 2ms/step\n",
            "Epoch 64/100\n",
            "131/131 - 0s - loss: 4.8158e-04 - 210ms/epoch - 2ms/step\n",
            "Epoch 65/100\n",
            "131/131 - 0s - loss: 4.8948e-04 - 197ms/epoch - 2ms/step\n",
            "Epoch 66/100\n",
            "131/131 - 0s - loss: 4.7265e-04 - 200ms/epoch - 2ms/step\n",
            "Epoch 67/100\n",
            "131/131 - 0s - loss: 4.7608e-04 - 215ms/epoch - 2ms/step\n",
            "Epoch 68/100\n",
            "131/131 - 0s - loss: 4.6908e-04 - 203ms/epoch - 2ms/step\n",
            "Epoch 69/100\n",
            "131/131 - 0s - loss: 4.9008e-04 - 219ms/epoch - 2ms/step\n",
            "Epoch 70/100\n",
            "131/131 - 0s - loss: 4.6528e-04 - 194ms/epoch - 1ms/step\n",
            "Epoch 71/100\n",
            "131/131 - 0s - loss: 4.8714e-04 - 190ms/epoch - 1ms/step\n",
            "Epoch 72/100\n",
            "131/131 - 0s - loss: 4.2796e-04 - 194ms/epoch - 1ms/step\n",
            "Epoch 73/100\n",
            "131/131 - 0s - loss: 4.6038e-04 - 209ms/epoch - 2ms/step\n",
            "Epoch 74/100\n",
            "131/131 - 0s - loss: 4.7569e-04 - 192ms/epoch - 1ms/step\n",
            "Epoch 75/100\n",
            "131/131 - 0s - loss: 4.5915e-04 - 213ms/epoch - 2ms/step\n",
            "Epoch 76/100\n",
            "131/131 - 0s - loss: 4.8932e-04 - 189ms/epoch - 1ms/step\n",
            "Epoch 77/100\n",
            "131/131 - 0s - loss: 4.5817e-04 - 203ms/epoch - 2ms/step\n",
            "Epoch 78/100\n",
            "131/131 - 0s - loss: 4.5044e-04 - 221ms/epoch - 2ms/step\n",
            "Epoch 79/100\n",
            "131/131 - 0s - loss: 4.7418e-04 - 190ms/epoch - 1ms/step\n",
            "Epoch 80/100\n",
            "131/131 - 0s - loss: 4.6394e-04 - 197ms/epoch - 2ms/step\n",
            "Epoch 81/100\n",
            "131/131 - 0s - loss: 4.6121e-04 - 206ms/epoch - 2ms/step\n",
            "Epoch 82/100\n",
            "131/131 - 0s - loss: 4.4016e-04 - 205ms/epoch - 2ms/step\n",
            "Epoch 83/100\n",
            "131/131 - 0s - loss: 4.6419e-04 - 218ms/epoch - 2ms/step\n",
            "Epoch 84/100\n",
            "131/131 - 0s - loss: 4.6746e-04 - 203ms/epoch - 2ms/step\n",
            "Epoch 85/100\n",
            "131/131 - 0s - loss: 4.6496e-04 - 190ms/epoch - 1ms/step\n",
            "Epoch 86/100\n",
            "131/131 - 0s - loss: 4.6627e-04 - 212ms/epoch - 2ms/step\n",
            "Epoch 87/100\n",
            "131/131 - 0s - loss: 4.5172e-04 - 187ms/epoch - 1ms/step\n",
            "Epoch 88/100\n",
            "131/131 - 0s - loss: 4.6037e-04 - 209ms/epoch - 2ms/step\n",
            "Epoch 89/100\n",
            "131/131 - 0s - loss: 4.5448e-04 - 185ms/epoch - 1ms/step\n",
            "Epoch 90/100\n",
            "131/131 - 0s - loss: 4.4847e-04 - 195ms/epoch - 1ms/step\n",
            "Epoch 91/100\n",
            "131/131 - 0s - loss: 4.4711e-04 - 194ms/epoch - 1ms/step\n",
            "Epoch 92/100\n",
            "131/131 - 0s - loss: 4.4648e-04 - 197ms/epoch - 2ms/step\n",
            "Epoch 93/100\n",
            "131/131 - 0s - loss: 4.4534e-04 - 211ms/epoch - 2ms/step\n",
            "Epoch 94/100\n",
            "131/131 - 0s - loss: 4.5085e-04 - 194ms/epoch - 1ms/step\n",
            "Epoch 95/100\n",
            "131/131 - 0s - loss: 4.5067e-04 - 204ms/epoch - 2ms/step\n",
            "Epoch 96/100\n",
            "131/131 - 0s - loss: 4.8328e-04 - 186ms/epoch - 1ms/step\n",
            "Epoch 97/100\n",
            "131/131 - 0s - loss: 4.3460e-04 - 205ms/epoch - 2ms/step\n",
            "Epoch 98/100\n",
            "131/131 - 0s - loss: 4.4946e-04 - 213ms/epoch - 2ms/step\n",
            "Epoch 99/100\n",
            "131/131 - 0s - loss: 4.2879e-04 - 206ms/epoch - 2ms/step\n",
            "Epoch 100/100\n",
            "131/131 - 0s - loss: 4.4634e-04 - 209ms/epoch - 2ms/step\n"
          ]
        },
        {
          "output_type": "execute_result",
          "data": {
            "text/plain": [
              "<keras.callbacks.History at 0x7f600764c290>"
            ]
          },
          "metadata": {},
          "execution_count": 15
        }
      ]
    },
    {
      "cell_type": "code",
      "source": [
        "# make predictions\n",
        "trainPredict = model.predict(trainX)\n",
        "testPredict = model.predict(testX)\n",
        "# invert predictions\n",
        "trainPredict = scaler.inverse_transform(trainPredict)\n",
        "trainY = scaler.inverse_transform([trainY])\n",
        "testPredict = scaler.inverse_transform(testPredict)\n",
        "testY = scaler.inverse_transform([testY])\n",
        "# calculate root mean squared error\n",
        "trainScore = math.sqrt(mean_squared_error(trainY[0], trainPredict[:,0]))\n",
        "print('Train Score: %.2f RMSE' % (trainScore))\n",
        "testScore = math.sqrt(mean_squared_error(testY[0], testPredict[:,0]))\n",
        "print('Test Score: %.2f RMSE' % (testScore))"
      ],
      "metadata": {
        "colab": {
          "base_uri": "https://localhost:8080/"
        },
        "id": "O_bXRN8nhiX3",
        "outputId": "fdb13489-1fa2-4cb2-ecd5-0834dcaf2ca5"
      },
      "execution_count": 16,
      "outputs": [
        {
          "output_type": "stream",
          "name": "stdout",
          "text": [
            "Train Score: 0.00 RMSE\n",
            "Test Score: 0.00 RMSE\n"
          ]
        }
      ]
    },
    {
      "cell_type": "code",
      "source": [
        "# shift train predictions for plotting\n",
        "trainPredictPlot = numpy.empty_like(dataset)\n",
        "trainPredictPlot[:, :] = numpy.nan\n",
        "trainPredictPlot[look_back:len(trainPredict)+look_back, :] = trainPredict\n",
        "# shift test predictions for plotting\n",
        "testPredictPlot = numpy.empty_like(dataset)\n",
        "testPredictPlot[:, :] = numpy.nan\n",
        "testPredictPlot[len(trainPredict)+(look_back*2)+1:len(dataset)-1, :] = testPredict\n",
        "# plot baseline and predictions\n",
        "plt.plot(scaler.inverse_transform(dataset))\n",
        "plt.plot(trainPredictPlot)\n",
        "plt.plot(testPredictPlot)\n",
        "plt.show()"
      ],
      "metadata": {
        "colab": {
          "base_uri": "https://localhost:8080/",
          "height": 265
        },
        "id": "VDqnSYI1hyFv",
        "outputId": "6a7c6858-81b5-4777-98e2-88ae7fbc0783"
      },
      "execution_count": 17,
      "outputs": [
        {
          "output_type": "display_data",
          "data": {
            "text/plain": [
              "<Figure size 432x288 with 1 Axes>"
            ],
            "image/png": "[encoded data removed]"
          },
          "metadata": {
            "needs_background": "light"
          }
        }
      ]
    },
    {
      "cell_type": "code",
      "source": [
        ""
      ],
      "metadata": {
        "id": "3LbSwbkXkP6N"
      },
      "execution_count": null,
      "outputs": []
    }
  ]
}